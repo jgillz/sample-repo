{
 "cells": [
  {
   "cell_type": "markdown",
   "metadata": {},
   "source": [
    "<img src=\"http://imgur.com/1ZcRyrc.png\" style=\"float: left; margin: 20px; height: 55px\">\n",
    "\n",
    "# Project 1: Python Coding Exercises\n",
    "\n",
    "_Authors: Joseph Nelson (DC) _\n",
    "\n",
    "---"
   ]
  },
  {
   "cell_type": "markdown",
   "metadata": {},
   "source": [
    "The following code challenges are drawn from common exercises used in technical interviews.\n",
    "\n",
    "Please note that there may be several ways to approach each challenge. If you get stuck, try mapping out your approach in pseudocode first. Finally, while solutions to problems like these may be found online, remember that if you copy/paste code that you can't explain, you'll be missing out on the point of the project. The only way to truly learn a new skill is through practice, trial, and error - we can only help you improve by understanding where you are having trouble."
   ]
  },
  {
   "cell_type": "markdown",
   "metadata": {},
   "source": [
    "### Challenge 1: Largest Palindrome\n",
    "A palindromic number reads the same both ways. For example, 1234321 is a palindrome. The largest palindrome made from the product of two two-digit numbers is 9009 = 91 × 99. Find the largest palindrome made from the product of two three-digit numbers. Afterward, write a brief explanation walking through your code's logic in markdown."
   ]
  },
  {
   "cell_type": "code",
   "execution_count": 19,
   "metadata": {},
   "outputs": [
    {
     "data": {
      "text/plain": [
       "906609"
      ]
     },
     "execution_count": 19,
     "metadata": {},
     "output_type": "execute_result"
    }
   ],
   "source": [
    "#multiply all possible three digit numbers with eachother and store their product in a list\n",
    "#for n in list find all palindrones defined as same forward as reverse\n",
    "#find max palindrone\n",
    "\n",
    "all_num = list(range(100,999))\n",
    "product_list = []\n",
    "for i in all_num:\n",
    "    for n in range(100,999):\n",
    "        product_list.append(i*n)\n",
    "\n",
    "palindrones = [n for n in product_list if str(n) == str(n)[::-1]]\n",
    "max(palindrones)\n",
    "\n",
    "#my code starts with a list of all numbers 100-999 and then for each of those numbers multiplies it by every number \n",
    "#between 100-999 to find all of the possible products. it then checks which of those numbers are the same forward and reverse\n",
    "#and creates a new list called palindrones. i then find the max of the palindrone list"
   ]
  },
  {
   "cell_type": "markdown",
   "metadata": {},
   "source": [
    "\n",
    "### Challenge 2: Summation of Primes\n",
    "The sum of the primes below 10 is 2 + 3 + 5 + 7 = 17. Find the sum of all the primes below 2,000. Afterward, write a brief explanation walking through your code's logic in markdown."
   ]
  },
  {
   "cell_type": "code",
   "execution_count": 28,
   "metadata": {},
   "outputs": [
    {
     "data": {
      "text/plain": [
       "277050"
      ]
     },
     "execution_count": 28,
     "metadata": {},
     "output_type": "execute_result"
    }
   ],
   "source": [
    "\n",
    "\n",
    "#Counts primes up to 2000\n",
    "n_2000 = range(1,2000)\n",
    "n_1000 = range(2,1000)\n",
    "removal_range = list(range(2,2000))\n",
    "for n in n_2000:\n",
    "    for i in n_1000:\n",
    "        if n == i:\n",
    "            next\n",
    "        elif n%i == 0:\n",
    "            try:\n",
    "                removal_range.remove(n)\n",
    "            except:\n",
    "                next\n",
    "        else:\n",
    "            next\n",
    "sum(removal_range)\n",
    "# my code starts by making a range of all numbers from 1 to 2000, it then loops through every number from 1-2000 and sees if its divisible by every number from 2-1000. \n",
    "# if the numbers return no remainder, it is not prime and it is removed from a list of numbers in range 2-2000, in the end you are left with just the prime numbers.\n",
    "\n"
   ]
  },
  {
   "cell_type": "markdown",
   "metadata": {},
   "source": [
    "### Challenge 3: Multiples of 3 and 5\n",
    "If we list all of the natural numbers below 10 that are multiples of 3 or 5, we get 3, 5, 6, and 9. The sum of these multiples is 23. Find the sum of all the multiples of 3 and 5 below 1,000. Afterward, write a brief explanation walking through your code's logic in markdown."
   ]
  },
  {
   "cell_type": "code",
   "execution_count": 42,
   "metadata": {},
   "outputs": [
    {
     "data": {
      "text/plain": [
       "233168"
      ]
     },
     "execution_count": 42,
     "metadata": {},
     "output_type": "execute_result"
    }
   ],
   "source": [
    "#find all multiples of 3 and 5 below 1000, sum them\n",
    "\n",
    "multiples_3_5 = [n for n in range(0,1000) if n%3 == 0 or n%5 == 0]\n",
    "\n",
    "\n",
    "sum(multiples_3_5)\n",
    "\n",
    "#this one is a list comprehension that tests for numbers below 1000 if it is divisible by 3 or 5, if it is it gets added to the list. i then sum the list"
   ]
  },
  {
   "cell_type": "markdown",
   "metadata": {},
   "source": [
    "### Challenge 4: String Compressor\n",
    "Implement a method to perform basic string compression using the counts of repeated characters. (This is called run-length encoding.) For example, the string \"aabcccccaaa\" would become a2b1c5a3. If the “compressed” string would not become smaller than the original string, your method should return the original string. You can assume the string has only uppercase and lowercase letters (a–z). Specify whether your solution is case sensitive or case insensitive and what you would need to change to make it the other. Afterward, write a brief explanation walking through your code's logic in markdown."
   ]
  },
  {
   "cell_type": "code",
   "execution_count": 43,
   "metadata": {},
   "outputs": [
    {
     "data": {
      "text/plain": [
       "'h1e1l6o4t1h1e3r2e1'"
      ]
     },
     "execution_count": 43,
     "metadata": {},
     "output_type": "execute_result"
    }
   ],
   "source": [
    "def string_compress(s): #this compresses letters in a string, it is case sensitive if i wanted to make it case insensitive i would convert s to either .upper or .lower before running through the function\n",
    "    count = 0\n",
    "    letter_count = 1\n",
    "    stringy = \"\"\n",
    "    for i in s:\n",
    "        if count+2 > len(s):\n",
    "            break\n",
    "        elif i == s[count+1]:\n",
    "            letter_count+=1\n",
    "            count+=1\n",
    "        else:\n",
    "            stringy+= i+str(letter_count)\n",
    "            letter_count = 1\n",
    "            count+=1\n",
    "    stringy+= i+str(letter_count)\n",
    "    if len(s) > len(stringy):\n",
    "        return stringy\n",
    "    else:\n",
    "        return s\n",
    "string_compress('hellllllooootheeerre')\n",
    "#the thought process here is for each letter in the string test if it is the same as the letter ahead of it, if it is add 1 to my letter count, if it isnt, add the letter and its count to a string. \n",
    "# finally check if the compressed string len is longer than the original string, if it is then print the compressed string, otherwise the original string"
   ]
  },
  {
   "cell_type": "markdown",
   "metadata": {},
   "source": [
    "### *BONUS* Challenge: FizzBuzz\n",
    "Write a program that prints all of the numbers from 1 to 100. For multiples of 3, instead of the number, print \"Fizz;\" for multiples of 5, print \"Buzz.\" For numbers that are multiples of both 3 and 5, print \"FizzBuzz.\" Afterward, write a brief explanation walking through your code's logic in markdown."
   ]
  },
  {
   "cell_type": "code",
   "execution_count": 39,
   "metadata": {},
   "outputs": [
    {
     "name": "stdout",
     "output_type": "stream",
     "text": [
      "1\n",
      "2\n",
      "Fizz\n",
      "4\n",
      "Buzz\n",
      "Fizz\n",
      "7\n",
      "8\n",
      "Fizz\n",
      "Buzz\n",
      "11\n",
      "Fizz\n",
      "13\n",
      "14\n",
      "FizzBuzz\n",
      "16\n",
      "17\n",
      "Fizz\n",
      "19\n",
      "Buzz\n",
      "Fizz\n",
      "22\n",
      "23\n",
      "Fizz\n",
      "Buzz\n",
      "26\n",
      "Fizz\n",
      "28\n",
      "29\n",
      "FizzBuzz\n",
      "31\n",
      "32\n",
      "Fizz\n",
      "34\n",
      "Buzz\n",
      "Fizz\n",
      "37\n",
      "38\n",
      "Fizz\n",
      "Buzz\n",
      "41\n",
      "Fizz\n",
      "43\n",
      "44\n",
      "FizzBuzz\n",
      "46\n",
      "47\n",
      "Fizz\n",
      "49\n",
      "Buzz\n",
      "Fizz\n",
      "52\n",
      "53\n",
      "Fizz\n",
      "Buzz\n",
      "56\n",
      "Fizz\n",
      "58\n",
      "59\n",
      "FizzBuzz\n",
      "61\n",
      "62\n",
      "Fizz\n",
      "64\n",
      "Buzz\n",
      "Fizz\n",
      "67\n",
      "68\n",
      "Fizz\n",
      "Buzz\n",
      "71\n",
      "Fizz\n",
      "73\n",
      "74\n",
      "FizzBuzz\n",
      "76\n",
      "77\n",
      "Fizz\n",
      "79\n",
      "Buzz\n",
      "Fizz\n",
      "82\n",
      "83\n",
      "Fizz\n",
      "Buzz\n",
      "86\n",
      "Fizz\n",
      "88\n",
      "89\n",
      "FizzBuzz\n",
      "91\n",
      "92\n",
      "Fizz\n",
      "94\n",
      "Buzz\n",
      "Fizz\n",
      "97\n",
      "98\n",
      "Fizz\n",
      "Buzz\n"
     ]
    }
   ],
   "source": [
    "for n in range(1,101):\n",
    "    if n%3 == 0 and n%5 == 0:\n",
    "        print('FizzBuzz')\n",
    "    elif n%3 ==0:\n",
    "        print('Fizz')\n",
    "    elif n%5 == 0:\n",
    "        print('Buzz')\n",
    "    else:\n",
    "        print(n)\n",
    "\n",
    "#this code loops through all numbers from 1 to 100 and if it is divisble by both 3 and 5 (defined as no remaineder) it prints fizzbuzz, if its divisible by only 3 it prints fizz and if its only 5 it prints buzz\n"
   ]
  }
 ],
 "metadata": {
  "anaconda-cloud": {},
  "kernelspec": {
   "display_name": "Python 3",
   "language": "python",
   "name": "python3"
  },
  "language_info": {
   "codemirror_mode": {
    "name": "ipython",
    "version": 3
   },
   "file_extension": ".py",
   "mimetype": "text/x-python",
   "name": "python",
   "nbconvert_exporter": "python",
   "pygments_lexer": "ipython3",
   "version": "3.7.1"
  }
 },
 "nbformat": 4,
 "nbformat_minor": 2
}
